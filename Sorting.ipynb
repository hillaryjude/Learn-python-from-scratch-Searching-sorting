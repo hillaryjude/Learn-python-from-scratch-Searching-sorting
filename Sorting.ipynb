{
 "cells": [
  {
   "cell_type": "markdown",
   "metadata": {},
   "source": [
    "# Sorting"
   ]
  },
  {
   "cell_type": "markdown",
   "metadata": {},
   "source": [
    "## Insertion Sort"
   ]
  },
  {
   "cell_type": "code",
   "execution_count": null,
   "metadata": {
    "id": "Ghw8-l5UfGYk"
   },
   "outputs": [],
   "source": [
    "def insertionsort(arr):  #insertion sort in ascending order\n",
    "  for j in range (1,len(arr)):\n",
    "    key = arr[j]\n",
    "    i = j-1\n",
    "    while i >= 0 and arr[i] > key:\n",
    "      arr[i+1] = arr[i]\n",
    "      i = i-1\n",
    "    arr[i+1] = key\n",
    "\n",
    "  return arr\n"
   ]
  },
  {
   "cell_type": "code",
   "execution_count": null,
   "metadata": {
    "colab": {
     "base_uri": "https://localhost:8080/"
    },
    "executionInfo": {
     "elapsed": 469,
     "status": "ok",
     "timestamp": 1728801078632,
     "user": {
      "displayName": "Hillary Jude",
      "userId": "17943637264411223929"
     },
     "user_tz": -330
    },
    "id": "brxI0sZhkeCG",
    "outputId": "3b8e0647-1f3a-49ce-afe2-bd3dbe4e2df3"
   },
   "outputs": [
    {
     "name": "stdout",
     "output_type": "stream",
     "text": [
      "[-9, -8, -5, 12, 42, 88]\n"
     ]
    }
   ],
   "source": [
    "C"
   ]
  },
  {
   "cell_type": "code",
   "execution_count": null,
   "metadata": {
    "id": "xjOUZokZqoSg"
   },
   "outputs": [],
   "source": [
    "#INSERTION SORT IN DESCENDING ORDER\n",
    "def insertion(arr):\n",
    "  for j in range(1,len(arr)):\n",
    "    key = arr[j]\n",
    "    i = j-1\n",
    "    while i >= 0 and arr[i]<key:\n",
    "      arr[i+1] = arr[i]\n",
    "      i = i-1\n",
    "    arr[i+1] = key\n",
    "\n",
    "  return arr"
   ]
  },
  {
   "cell_type": "code",
   "execution_count": null,
   "metadata": {
    "colab": {
     "base_uri": "https://localhost:8080/"
    },
    "executionInfo": {
     "elapsed": 410,
     "status": "ok",
     "timestamp": 1728802758588,
     "user": {
      "displayName": "Hillary Jude",
      "userId": "17943637264411223929"
     },
     "user_tz": -330
    },
    "id": "j4uFVl3HrGOE",
    "outputId": "a27f19ec-b9ca-49ad-c57a-d418190c214f"
   },
   "outputs": [
    {
     "name": "stdout",
     "output_type": "stream",
     "text": [
      "[88, 42, 12, -5, -8, -9]\n"
     ]
    }
   ],
   "source": [
    "lst = [-5,88,-8,42,12,-9]\n",
    "print(insertion(lst))"
   ]
  },
  {
   "cell_type": "markdown",
   "metadata": {
    "id": "xxe_Oc1vvgTo"
   },
   "source": [
    "Insertion sort in best case will take less time to execute O(n)\n",
    "while in worst case it takes more time O(n^2)"
   ]
  },
  {
   "cell_type": "markdown",
   "metadata": {},
   "source": [
    "## Bubble Sort"
   ]
  },
  {
   "cell_type": "code",
   "execution_count": null,
   "metadata": {
    "executionInfo": {
     "elapsed": 452,
     "status": "ok",
     "timestamp": 1728834153850,
     "user": {
      "displayName": "Hillary Jude",
      "userId": "17943637264411223929"
     },
     "user_tz": -330
    },
    "id": "ow4NcsSRvqfV"
   },
   "outputs": [],
   "source": [
    "def bubblesort(arr):\n",
    "  for i in range(len(arr)):\n",
    "    for j in range(len(arr)-i-1):\n",
    "      if arr[j]>arr[j+1]:\n",
    "        arr[j],arr[j+1] = arr[j+1],arr[j]\n",
    "  return arr"
   ]
  },
  {
   "cell_type": "code",
   "execution_count": 20,
   "metadata": {
    "colab": {
     "base_uri": "https://localhost:8080/"
    },
    "executionInfo": {
     "elapsed": 8,
     "status": "ok",
     "timestamp": 1728834155292,
     "user": {
      "displayName": "Hillary Jude",
      "userId": "17943637264411223929"
     },
     "user_tz": -330
    },
    "id": "DgMYy4AHiOaG",
    "outputId": "d995c9ed-5524-403a-b24f-b8b3bd0113c7"
   },
   "outputs": [
    {
     "name": "stdout",
     "output_type": "stream",
     "text": [
      "[1, 2, 3, 4, 5, 6, 7, 8]\n"
     ]
    }
   ],
   "source": [
    "arr = [6,5,3,1,8,7,2,4]\n",
    "print(bubblesort(arr))"
   ]
  },
  {
   "cell_type": "markdown",
   "metadata": {},
   "source": [
    "### Optimized bubbled sort"
   ]
  },
  {
   "cell_type": "code",
   "execution_count": 15,
   "metadata": {},
   "outputs": [],
   "source": [
    "def optbub(lst):\n",
    "    for i in range(len(lst)):\n",
    "        swapped = False\n",
    "        for j in range (len(lst)-i-1):\n",
    "             if lst[j+1] < lst[j]:\n",
    "                swapped = True\n",
    "                lst[j+1],lst[j] = lst[j],lst[j+1]\n",
    "                print(lst)\n",
    "        if not swapped:\n",
    "            break\n",
    "    return lst\n",
    "                \n",
    "            "
   ]
  },
  {
   "cell_type": "code",
   "execution_count": 16,
   "metadata": {},
   "outputs": [
    {
     "name": "stdout",
     "output_type": "stream",
     "text": [
      "[2, 3, 6, 7, 87, 31]\n",
      "[2, 3, 6, 7, 31, 87]\n",
      "[2, 3, 6, 7, 31, 87]\n"
     ]
    }
   ],
   "source": [
    "lst = [3,2,6,7,87,31]\n",
    "print(optbub(lst))"
   ]
  },
  {
   "cell_type": "markdown",
   "metadata": {},
   "source": [
    "## Selection sort"
   ]
  },
  {
   "cell_type": "code",
   "execution_count": 39,
   "metadata": {},
   "outputs": [],
   "source": [
    "def selectionsort(arr):\n",
    "    n = len(arr)\n",
    "    for i in range(n):\n",
    "        min_ind = i\n",
    "        for j in range(i+1,n):\n",
    "            if arr[j] < arr[min_ind]:\n",
    "                min_ind = j\n",
    "        arr[i],arr[min_ind] = arr[min_ind],arr[i]\n",
    "    return arr\n",
    "            "
   ]
  },
  {
   "cell_type": "code",
   "execution_count": 42,
   "metadata": {},
   "outputs": [],
   "source": [
    "lst = [3, 2, 6, 1, 87, 31]"
   ]
  },
  {
   "cell_type": "code",
   "execution_count": 43,
   "metadata": {},
   "outputs": [
    {
     "name": "stdout",
     "output_type": "stream",
     "text": [
      "[1, 2, 3, 6, 31, 87]\n"
     ]
    }
   ],
   "source": [
    "print(selectionsort(lst))"
   ]
  },
  {
   "cell_type": "markdown",
   "metadata": {},
   "source": [
    "## Merge sort"
   ]
  },
  {
   "cell_type": "code",
   "execution_count": 9,
   "metadata": {},
   "outputs": [],
   "source": [
    "def merge(arr, l, m, r):\n",
    "    n1 = m - l + 1\n",
    "    n2 = r - m\n",
    "    # create temp arrays\n",
    "    L = [0] * n1\n",
    "    R = [0] * n2\n",
    "    \n",
    "    L[:] = arr[l: l + n1]\n",
    "    R[:] = arr[m+1: m+1+n2]\n",
    "    \n",
    "    i = j = 0\n",
    "    k = l\n",
    "    while i < n1 and j < n2:\n",
    "        if L[i] <= R[j]:\n",
    "            arr[k] = L[i]\n",
    "            i += 1\n",
    "        else:\n",
    "            arr[k] = R[j]\n",
    "            j += 1\n",
    "        k += 1\n",
    "    while i < n1:\n",
    "        arr[k] = L[i]\n",
    "        i += 1\n",
    "        k += 1\n",
    "    while j < n2:\n",
    "        arr[k] = R[j]\n",
    "        j += 1\n",
    "        k += 1\n",
    "def mergeSort(arr, l, r):\n",
    "    if l < r:\n",
    "        m = (l+r)//2\n",
    "        mergeSort(arr, l, m)\n",
    "        mergeSort(arr, m+1, r)\n",
    "        merge(arr, l, m, r)"
   ]
  },
  {
   "cell_type": "code",
   "execution_count": 10,
   "metadata": {},
   "outputs": [
    {
     "name": "stdout",
     "output_type": "stream",
     "text": [
      "[0, 2, 4, 6, 8, 10, 15]\n"
     ]
    }
   ],
   "source": [
    "arr = [4,6,2,8,10, 15, 0]\n",
    "n = len(arr)\n",
    "mergeSort(arr, 0, n-1)\n",
    "print(arr)"
   ]
  },
  {
   "cell_type": "code",
   "execution_count": 12,
   "metadata": {},
   "outputs": [],
   "source": [
    "def merge(arr,l,m,r):\n",
    "    n1 = m-l+1\n",
    "    n2 = r-m\n",
    "    L= [0] * n1\n",
    "    R = [0] * n2\n",
    "    L[:] = arr[l : l+n1]\n",
    "    R[:] = arr[m+1 : m+1+n2]\n",
    "    i=j=0\n",
    "    k=l\n",
    "    while i<n1 and j<n2:\n",
    "        if L[i] < R[j]:\n",
    "            arr[k] = L[i]\n",
    "            i+=1\n",
    "        else:\n",
    "            arr[k] = R[j]\n",
    "            j+=1\n",
    "        k+=1\n",
    "    while i<n1:\n",
    "        arr[k] = L[i]\n",
    "        i += 1\n",
    "        k += 1\n",
    "    while j <n2:\n",
    "        arr[k] = R[j]\n",
    "        j += 1\n",
    "        k += 1\n",
    "\n",
    "def mergeSort(arr, l, r):\n",
    "    if l < r:\n",
    "        m = (l+r)//2\n",
    "        mergeSort(arr, l, m)\n",
    "        mergeSort(arr, m+1, r)\n",
    "        merge(arr, l, m, r)\n",
    "    \n",
    "    "
   ]
  },
  {
   "cell_type": "code",
   "execution_count": 13,
   "metadata": {},
   "outputs": [
    {
     "name": "stdout",
     "output_type": "stream",
     "text": [
      "[0, 2, 4, 6, 8, 10, 15]\n"
     ]
    }
   ],
   "source": [
    "arr = [4,6,2,8,10, 15, 0]\n",
    "n = len(arr)\n",
    "mergeSort(arr, 0, n-1)\n",
    "print(arr)"
   ]
  },
  {
   "cell_type": "code",
   "execution_count": null,
   "metadata": {},
   "outputs": [],
   "source": []
  }
 ],
 "metadata": {
  "colab": {
   "authorship_tag": "ABX9TyMLL+MkE47SQTc0vX/3uv2g",
   "provenance": []
  },
  "kernelspec": {
   "display_name": "Python 3 (ipykernel)",
   "language": "python",
   "name": "python3"
  },
  "language_info": {
   "codemirror_mode": {
    "name": "ipython",
    "version": 3
   },
   "file_extension": ".py",
   "mimetype": "text/x-python",
   "name": "python",
   "nbconvert_exporter": "python",
   "pygments_lexer": "ipython3",
   "version": "3.12.6"
  }
 },
 "nbformat": 4,
 "nbformat_minor": 4
}
